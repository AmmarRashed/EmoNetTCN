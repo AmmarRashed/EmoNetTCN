{
 "cells": [
  {
   "cell_type": "code",
   "execution_count": 1,
   "id": "3bbf410d",
   "metadata": {
    "ExecuteTime": {
     "end_time": "2023-05-15T19:37:15.489019Z",
     "start_time": "2023-05-15T19:37:14.424059Z"
    }
   },
   "outputs": [],
   "source": [
    "from torch.utils.data import DataLoader\n",
    "from dataset import *\n",
    "from transformer import *\n",
    "from sklearn.metrics import classification_report"
   ]
  },
  {
   "cell_type": "code",
   "execution_count": 2,
   "id": "e06c02e2",
   "metadata": {
    "ExecuteTime": {
     "end_time": "2023-05-15T19:37:16.599859Z",
     "start_time": "2023-05-15T19:37:16.597018Z"
    }
   },
   "outputs": [],
   "source": [
    "test_dataset = EmbeddingDataset(\"data/Test\")\n",
    "test_dataloader = DataLoader(test_dataset, batch_size=len(test_dataset), shuffle=True)"
   ]
  },
  {
   "cell_type": "code",
   "execution_count": 3,
   "id": "0d1085c2-0a16-4484-9ba0-0c4177bdf2da",
   "metadata": {},
   "outputs": [],
   "source": [
    "device = torch.device('cuda' if torch.cuda.is_available() else 'cpu')"
   ]
  },
  {
   "cell_type": "code",
   "execution_count": 4,
   "id": "eb70c089",
   "metadata": {
    "ExecuteTime": {
     "end_time": "2023-05-15T19:40:10.537564Z",
     "start_time": "2023-05-15T19:40:10.517028Z"
    }
   },
   "outputs": [],
   "source": [
    "model = ImageEmbeddingRegressor().to(device)"
   ]
  },
  {
   "cell_type": "code",
   "execution_count": 5,
   "id": "0049d99c-3a52-4969-b511-03635be388a1",
   "metadata": {},
   "outputs": [],
   "source": [
    "criterion = nn.MSELoss()"
   ]
  },
  {
   "cell_type": "code",
   "execution_count": 6,
   "id": "449a4d64",
   "metadata": {},
   "outputs": [
    {
     "name": "stdout",
     "output_type": "stream",
     "text": [
      "Test Loss: 0.06296121329069138\n"
     ]
    }
   ],
   "source": [
    "# Load the best model parameters and test the model\n",
    "model.load_state_dict(torch.load(\"resnet_vggface_transformer_weights.pt\"))\n",
    "model.eval()\n",
    "test_loss = 0\n",
    "with torch.no_grad():\n",
    "    for batch in test_dataloader:\n",
    "        batch_x = batch[\"x\"].to(device)\n",
    "        batch_y = batch[\"y\"].to(device).float()\n",
    "        output = model(batch_x)\n",
    "        loss = criterion(output, batch_y)\n",
    "        test_loss += loss.item()\n",
    "\n",
    "    print(f\"Test Loss: {test_loss / len(test_dataloader)}\")"
   ]
  },
  {
   "cell_type": "markdown",
   "id": "64367fbf-2158-4354-ac36-d298fc59dd93",
   "metadata": {},
   "source": [
    "# Classification"
   ]
  },
  {
   "cell_type": "code",
   "execution_count": 16,
   "id": "8e881745-2449-4265-af91-9485c93fc666",
   "metadata": {},
   "outputs": [
    {
     "name": "stdout",
     "output_type": "stream",
     "text": [
      "              precision    recall  f1-score   support\n",
      "\n",
      "           0       0.00      0.00      0.00         3\n",
      "           1       0.04      0.15      0.06        72\n",
      "           2       0.49      0.79      0.60       871\n",
      "           3       0.00      0.00      0.00       792\n",
      "\n",
      "    accuracy                           0.40      1738\n",
      "   macro avg       0.13      0.24      0.16      1738\n",
      "weighted avg       0.24      0.40      0.30      1738\n",
      "\n"
     ]
    },
    {
     "name": "stderr",
     "output_type": "stream",
     "text": [
      "/home/ammar/.local/lib/python3.9/site-packages/sklearn/metrics/_classification.py:1344: UndefinedMetricWarning: Precision and F-score are ill-defined and being set to 0.0 in labels with no predicted samples. Use `zero_division` parameter to control this behavior.\n",
      "  _warn_prf(average, modifier, msg_start, len(result))\n",
      "/home/ammar/.local/lib/python3.9/site-packages/sklearn/metrics/_classification.py:1344: UndefinedMetricWarning: Precision and F-score are ill-defined and being set to 0.0 in labels with no predicted samples. Use `zero_division` parameter to control this behavior.\n",
      "  _warn_prf(average, modifier, msg_start, len(result))\n",
      "/home/ammar/.local/lib/python3.9/site-packages/sklearn/metrics/_classification.py:1344: UndefinedMetricWarning: Precision and F-score are ill-defined and being set to 0.0 in labels with no predicted samples. Use `zero_division` parameter to control this behavior.\n",
      "  _warn_prf(average, modifier, msg_start, len(result))\n"
     ]
    }
   ],
   "source": [
    "pred = (output*3).int().cpu()\n",
    "y = (batch_y*3).int().cpu()\n",
    "print(classification_report(y, pred))"
   ]
  },
  {
   "cell_type": "code",
   "execution_count": null,
   "id": "38253293-aec9-4489-a43b-c795656eabc0",
   "metadata": {},
   "outputs": [],
   "source": []
  }
 ],
 "metadata": {
  "kernelspec": {
   "display_name": "torch",
   "language": "python",
   "name": "torch"
  },
  "language_info": {
   "codemirror_mode": {
    "name": "ipython",
    "version": 3
   },
   "file_extension": ".py",
   "mimetype": "text/x-python",
   "name": "python",
   "nbconvert_exporter": "python",
   "pygments_lexer": "ipython3",
   "version": "3.9.16"
  },
  "toc": {
   "base_numbering": 1,
   "nav_menu": {},
   "number_sections": true,
   "sideBar": true,
   "skip_h1_title": false,
   "title_cell": "Table of Contents",
   "title_sidebar": "Contents",
   "toc_cell": false,
   "toc_position": {},
   "toc_section_display": true,
   "toc_window_display": false
  }
 },
 "nbformat": 4,
 "nbformat_minor": 5
}
