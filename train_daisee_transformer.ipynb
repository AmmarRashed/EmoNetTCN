{
 "cells": [
  {
   "cell_type": "code",
   "execution_count": 1,
   "id": "3bbf410d",
   "metadata": {
    "ExecuteTime": {
     "end_time": "2023-05-15T19:37:15.489019Z",
     "start_time": "2023-05-15T19:37:14.424059Z"
    }
   },
   "outputs": [],
   "source": [
    "import torch.optim as optim\n",
    "from torch.utils.data import DataLoader\n",
    "\n",
    "from dataset import *\n",
    "from transformer import *"
   ]
  },
  {
   "cell_type": "code",
   "execution_count": 2,
   "id": "e06c02e2",
   "metadata": {
    "ExecuteTime": {
     "end_time": "2023-05-15T19:37:16.599859Z",
     "start_time": "2023-05-15T19:37:16.597018Z"
    }
   },
   "outputs": [],
   "source": [
    "train_dataset = EmbeddingDataset(\"vectors/Train\")\n",
    "validation_dataset = EmbeddingDataset(\"vectors/Validation\")\n",
    "test_dataset = EmbeddingDataset(\"vectors/Test\")\n",
    "\n",
    "train_dataloader = DataLoader(train_dataset, batch_size=32, shuffle=True)\n",
    "validation_dataloader = DataLoader(validation_dataset, batch_size=32, shuffle=True)\n",
    "test_dataloader = DataLoader(test_dataset, batch_size=32, shuffle=True)"
   ]
  },
  {
   "cell_type": "code",
   "execution_count": 3,
   "id": "eb70c089",
   "metadata": {
    "ExecuteTime": {
     "end_time": "2023-05-15T19:40:10.537564Z",
     "start_time": "2023-05-15T19:40:10.517028Z"
    }
   },
   "outputs": [],
   "source": [
    "model = ImageEmbeddingRegressor()\n",
    "criterion = nn.MSELoss()\n",
    "optimizer = optim.Adam(model.parameters(), lr=0.001)"
   ]
  },
  {
   "cell_type": "code",
   "execution_count": 4,
   "id": "89791f9b",
   "metadata": {
    "ExecuteTime": {
     "end_time": "2023-05-15T19:40:12.280428Z",
     "start_time": "2023-05-15T19:40:12.276666Z"
    }
   },
   "outputs": [],
   "source": [
    "for batch in train_dataloader:\n",
    "    break"
   ]
  },
  {
   "cell_type": "code",
   "execution_count": 5,
   "id": "d8f086a1",
   "metadata": {
    "ExecuteTime": {
     "end_time": "2023-05-15T19:40:12.776202Z",
     "start_time": "2023-05-15T19:40:12.751402Z"
    }
   },
   "outputs": [
    {
     "data": {
      "text/plain": [
       "torch.Size([3])"
      ]
     },
     "execution_count": 5,
     "metadata": {},
     "output_type": "execute_result"
    }
   ],
   "source": [
    "model(batch[\"x\"]).size()"
   ]
  },
  {
   "cell_type": "code",
   "execution_count": 6,
   "id": "560b4e2b",
   "metadata": {
    "ExecuteTime": {
     "end_time": "2023-05-15T19:40:16.880527Z",
     "start_time": "2023-05-15T19:40:16.828748Z"
    }
   },
   "outputs": [],
   "source": [
    "model.train()\n",
    "train_loss = 0\n",
    "for batch in train_dataloader:\n",
    "    optimizer.zero_grad()\n",
    "    output = model(batch[\"x\"])\n",
    "    loss = criterion(output, batch[\"y\"].float())\n",
    "    loss.backward()\n",
    "    optimizer.step()\n",
    "    train_loss += loss.item()"
   ]
  },
  {
   "cell_type": "code",
   "execution_count": 7,
   "id": "171ad909",
   "metadata": {
    "ExecuteTime": {
     "end_time": "2023-05-15T19:40:17.815364Z",
     "start_time": "2023-05-15T19:40:17.812833Z"
    }
   },
   "outputs": [
    {
     "data": {
      "text/plain": [
       "torch.Size([3])"
      ]
     },
     "execution_count": 7,
     "metadata": {},
     "output_type": "execute_result"
    }
   ],
   "source": [
    "output.size()"
   ]
  },
  {
   "cell_type": "code",
   "execution_count": 8,
   "id": "166eafd5",
   "metadata": {
    "ExecuteTime": {
     "end_time": "2023-05-15T19:40:18.188604Z",
     "start_time": "2023-05-15T19:40:18.183589Z"
    }
   },
   "outputs": [
    {
     "data": {
      "text/plain": [
       "torch.Size([3])"
      ]
     },
     "execution_count": 8,
     "metadata": {},
     "output_type": "execute_result"
    }
   ],
   "source": [
    "output.size()"
   ]
  },
  {
   "cell_type": "code",
   "execution_count": 9,
   "id": "4933782a",
   "metadata": {
    "ExecuteTime": {
     "end_time": "2023-05-15T19:40:18.580717Z",
     "start_time": "2023-05-15T19:40:18.575576Z"
    }
   },
   "outputs": [
    {
     "data": {
      "text/plain": [
       "torch.Size([3, 100, 512])"
      ]
     },
     "execution_count": 9,
     "metadata": {},
     "output_type": "execute_result"
    }
   ],
   "source": [
    "batch[\"x\"].size()"
   ]
  },
  {
   "cell_type": "code",
   "execution_count": 10,
   "id": "6dac43fe",
   "metadata": {
    "ExecuteTime": {
     "end_time": "2023-05-15T19:40:19.098362Z",
     "start_time": "2023-05-15T19:40:19.079411Z"
    }
   },
   "outputs": [
    {
     "data": {
      "text/plain": [
       "torch.Size([3])"
      ]
     },
     "execution_count": 10,
     "metadata": {},
     "output_type": "execute_result"
    }
   ],
   "source": [
    "model(batch[\"x\"]).size()"
   ]
  },
  {
   "cell_type": "code",
   "execution_count": null,
   "id": "449a4d64",
   "metadata": {},
   "outputs": [],
   "source": []
  }
 ],
 "metadata": {
  "kernelspec": {
   "display_name": "Python 3 (ipykernel)",
   "language": "python",
   "name": "python3"
  },
  "language_info": {
   "codemirror_mode": {
    "name": "ipython",
    "version": 3
   },
   "file_extension": ".py",
   "mimetype": "text/x-python",
   "name": "python",
   "nbconvert_exporter": "python",
   "pygments_lexer": "ipython3",
   "version": "3.10.9"
  },
  "toc": {
   "base_numbering": 1,
   "nav_menu": {},
   "number_sections": true,
   "sideBar": true,
   "skip_h1_title": false,
   "title_cell": "Table of Contents",
   "title_sidebar": "Contents",
   "toc_cell": false,
   "toc_position": {},
   "toc_section_display": true,
   "toc_window_display": false
  }
 },
 "nbformat": 4,
 "nbformat_minor": 5
}
