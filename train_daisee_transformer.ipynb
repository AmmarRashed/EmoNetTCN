{
 "cells": [
  {
   "cell_type": "code",
   "execution_count": 1,
   "id": "3bbf410d",
   "metadata": {
    "ExecuteTime": {
     "end_time": "2023-05-15T19:37:15.489019Z",
     "start_time": "2023-05-15T19:37:14.424059Z"
    }
   },
   "outputs": [],
   "source": [
    "from torch.utils.data import DataLoader\n",
    "from dataset import *\n",
    "from transformer import *"
   ]
  },
  {
   "cell_type": "code",
   "execution_count": 2,
   "id": "e06c02e2",
   "metadata": {
    "ExecuteTime": {
     "end_time": "2023-05-15T19:37:16.599859Z",
     "start_time": "2023-05-15T19:37:16.597018Z"
    }
   },
   "outputs": [],
   "source": [
    "test_dataset = EmbeddingDataset(\"data/Test\")\n",
    "test_dataloader = DataLoader(test_dataset, batch_size=32, shuffle=True)"
   ]
  },
  {
   "cell_type": "code",
   "execution_count": 3,
   "id": "0d1085c2-0a16-4484-9ba0-0c4177bdf2da",
   "metadata": {},
   "outputs": [],
   "source": [
    "device = torch.device('cuda' if torch.cuda.is_available() else 'cpu')"
   ]
  },
  {
   "cell_type": "code",
   "execution_count": 4,
   "id": "eb70c089",
   "metadata": {
    "ExecuteTime": {
     "end_time": "2023-05-15T19:40:10.537564Z",
     "start_time": "2023-05-15T19:40:10.517028Z"
    }
   },
   "outputs": [],
   "source": [
    "model = ImageEmbeddingRegressor().to(device)"
   ]
  },
  {
   "cell_type": "code",
   "execution_count": 6,
   "id": "0049d99c-3a52-4969-b511-03635be388a1",
   "metadata": {},
   "outputs": [],
   "source": [
    "criterion = nn.MSELoss()"
   ]
  },
  {
   "cell_type": "code",
   "execution_count": 16,
   "id": "449a4d64",
   "metadata": {},
   "outputs": [
    {
     "name": "stdout",
     "output_type": "stream",
     "text": [
      "Test Loss: 0.030177215452898632\n"
     ]
    }
   ],
   "source": [
    "# Load the best model parameters and test the model\n",
    "model.load_state_dict(torch.load(\"best_model_params.pt\"))\n",
    "model.eval()\n",
    "test_loss = 0\n",
    "with torch.no_grad():\n",
    "    for batch in test_dataloader:\n",
    "        batch_x = batch[\"x\"].to(device)\n",
    "        batch_y = batch[\"y\"].to(device).float()\n",
    "        output = model(batch_x)\n",
    "        loss = criterion(output, batch_y)\n",
    "        test_loss += loss.item()\n",
    "\n",
    "    print(f\"Test Loss: {test_loss / len(test_dataloader)}\")"
   ]
  },
  {
   "cell_type": "code",
   "execution_count": null,
   "id": "9ca6a1e7-e65c-4596-872f-b85a4e628900",
   "metadata": {},
   "outputs": [],
   "source": []
  }
 ],
 "metadata": {
  "kernelspec": {
   "display_name": "torch",
   "language": "python",
   "name": "torch"
  },
  "language_info": {
   "codemirror_mode": {
    "name": "ipython",
    "version": 3
   },
   "file_extension": ".py",
   "mimetype": "text/x-python",
   "name": "python",
   "nbconvert_exporter": "python",
   "pygments_lexer": "ipython3",
   "version": "3.9.16"
  },
  "toc": {
   "base_numbering": 1,
   "nav_menu": {},
   "number_sections": true,
   "sideBar": true,
   "skip_h1_title": false,
   "title_cell": "Table of Contents",
   "title_sidebar": "Contents",
   "toc_cell": false,
   "toc_position": {},
   "toc_section_display": true,
   "toc_window_display": false
  }
 },
 "nbformat": 4,
 "nbformat_minor": 5
}
