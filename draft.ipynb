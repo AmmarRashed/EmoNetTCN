{
 "cells": [
  {
   "cell_type": "code",
   "execution_count": 1,
   "id": "6a3f17b3",
   "metadata": {
    "ExecuteTime": {
     "end_time": "2023-05-12T00:31:53.814485Z",
     "start_time": "2023-05-12T00:31:52.810821Z"
    }
   },
   "outputs": [],
   "source": [
    "from dataset import VideoDataset\n",
    "from torchvision.transforms import Compose, ToTensor\n",
    "from torch.utils.data import DataLoader"
   ]
  },
  {
   "cell_type": "code",
   "execution_count": 2,
   "id": "f5d0180b",
   "metadata": {
    "ExecuteTime": {
     "end_time": "2023-05-12T00:31:53.851694Z",
     "start_time": "2023-05-12T00:31:53.815805Z"
    }
   },
   "outputs": [],
   "source": [
    "dataset = VideoDataset(root=\"../DAiSEE/DataSet/\", csv=\"../DAiSEE/Labels/TrainLabels.csv\", ttv=\"Train\")\n",
    "dataloader = DataLoader(dataset, batch_size=2, shuffle=True)"
   ]
  },
  {
   "cell_type": "code",
   "execution_count": 3,
   "id": "7a54ca1e",
   "metadata": {
    "ExecuteTime": {
     "end_time": "2023-05-12T00:31:55.742427Z",
     "start_time": "2023-05-12T00:31:54.576958Z"
    }
   },
   "outputs": [
    {
     "name": "stderr",
     "output_type": "stream",
     "text": [
      "/home/ammar/miniconda3/envs/torch/lib/python3.10/site-packages/torchvision/io/video.py:161: UserWarning: The pts_unit 'pts' gives wrong results. Please use pts_unit 'sec'.\n",
      "  warnings.warn(\"The pts_unit 'pts' gives wrong results. Please use pts_unit 'sec'.\")\n"
     ]
    }
   ],
   "source": [
    "for batch in dataloader:\n",
    "    break"
   ]
  },
  {
   "cell_type": "code",
   "execution_count": 6,
   "id": "bdff23bc",
   "metadata": {
    "ExecuteTime": {
     "end_time": "2023-05-12T00:32:02.937605Z",
     "start_time": "2023-05-12T00:32:02.933031Z"
    }
   },
   "outputs": [
    {
     "data": {
      "text/plain": [
       "torch.Size([2, 300, 480, 640, 3])"
      ]
     },
     "execution_count": 6,
     "metadata": {},
     "output_type": "execute_result"
    }
   ],
   "source": [
    "batch[\"video\"].shape"
   ]
  },
  {
   "cell_type": "code",
   "execution_count": null,
   "id": "9cf4a931",
   "metadata": {},
   "outputs": [],
   "source": []
  }
 ],
 "metadata": {
  "kernelspec": {
   "display_name": "Python 3 (ipykernel)",
   "language": "python",
   "name": "python3"
  },
  "language_info": {
   "codemirror_mode": {
    "name": "ipython",
    "version": 3
   },
   "file_extension": ".py",
   "mimetype": "text/x-python",
   "name": "python",
   "nbconvert_exporter": "python",
   "pygments_lexer": "ipython3",
   "version": "3.10.9"
  },
  "toc": {
   "base_numbering": 1,
   "nav_menu": {},
   "number_sections": true,
   "sideBar": true,
   "skip_h1_title": false,
   "title_cell": "Table of Contents",
   "title_sidebar": "Contents",
   "toc_cell": false,
   "toc_position": {},
   "toc_section_display": true,
   "toc_window_display": false
  }
 },
 "nbformat": 4,
 "nbformat_minor": 5
}
